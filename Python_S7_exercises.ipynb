{
 "cells": [
  {
   "cell_type": "markdown",
   "id": "7e64c787",
   "metadata": {},
   "source": [
    "# Wordclouds (WC)"
   ]
  },
  {
   "cell_type": "markdown",
   "id": "b0510da5",
   "metadata": {},
   "source": [
    "**WC, Slide 8 - Exercise 1**"
   ]
  },
  {
   "cell_type": "code",
   "execution_count": null,
   "id": "287e5754",
   "metadata": {},
   "outputs": [],
   "source": [
    "#Exercise 1----------------------------------------------------------------\n",
    "!pip install _________\n",
    "from wordcloud import WordCloud\n",
    "import matplotlib.pyplot as plt\n",
    "import numpy as np\n",
    "from PIL import Image"
   ]
  },
  {
   "cell_type": "code",
   "execution_count": null,
   "id": "672c5282",
   "metadata": {},
   "outputs": [],
   "source": [
    "# First simple example using a text directly taped in Python\n",
    "# Excluding specific words\n",
    "text = \"Data Science : definition, problématiques et cas d’usage. La Data Science ou science des données est un vaste champ multi-disciplinaire visant à donner du sens aux données brutes. Data Science : définition, champs d’applications et limites actuelles, découvrez tout ce que vous devez savoir sur ce domaine complexe, devenu un enjeu prioritaire dans les entreprises de toutes les industries. Pour définir la Data Science de la plus simple des façons, il s’agit de l’extraction d’informations exploitables à partir de données brutes. Ce champ multi-disciplinaire a pour but principal d’identifier des tendances, des motifs, des connexions et des corrélations dans les larges ensembles de données. La science des données englobe une large variété d’outils et de techniques telles que la programmation informatique, l’analyse prédictive, les mathématiques, les statistiques ou l’intelligence artificielle. Désormais, la Data Science inclut aussi les algorithmes de Machine Learning. De nos jours, presque toutes les entreprises affirment pratiquer la Data Science sous une forme ou une autre. Cependant, les méthodes et approches employées peuvent varier d’une organisation à l’autre. Il devient donc très compliqué d’offrir une définition précise de la Data Science. D’autant que de nouvelles technologies apparaissent sans cesse et transforment continuellement ce domaine. Ainsi, pour définir la science des données, la meilleure question à se poser est: pourquoi ?. Pourquoi la science des données ? Si la Data Science connaît un essor fulgurant dans tous les secteurs d’activité, c’est parce que l’humanité génère de plus en plus de données. Entre 2011 et 2013, en seulement deux ans, le volume mondial de données a été multiplié par 9. Et cette explosion du Big Data n’a pas ralenti depuis. D’ici la fin de l’année 2020, le volume total de données à l’échelle de la planète devrait atteindre 44 zettabytes contre moins de 5 zettabytes en 2013. Comment expliquer ce phénomène ? Plusieurs technologies émergentes génèrent des données. C’est le cas des objets connectés, des réseaux sociaux, des smartphones, ou des moteurs de recherche web. Or, toutes ces données offrent des opportunités inouïes pour les entreprises de toutes les industries, les institutions de recherche ou le secteur public. C’est la raison pour laquelle les données sont souvent considérées comme le pétrole du XXIème siècle. En s’appuyant sur ces découvertes, il est possible de créer de nouveaux produits et services innovants, de résoudre des problèmes concrets, d’améliorer ses performances comme jamais auparavant. La Data Science permet de prendre des décisions basées sur les données, plutôt que sur une simple intuition. Ainsi, elle révolutionne notre quotidien et nous permet de s’ouvrir à de nouveaux horizons. En bref, la data science représentera une science incontournable du monde demain ! Comment fonctionne la data science ? La Data Science couvre une large variété de disciplines et de champs d’expertise. Son but reste toutefois de donner du sens aux données brutes. Pour y parvenir, les Data Scientists doivent posséder des compétences en ingénierie des données, en mathématiques, en statistique, en informatique et en Data Visualization. Ces compétences leur permettront de parcourir les vastes ensembles de données brutes pour en dégager les informations les plus pertinentes et les communiquer aux décideurs de leurs organisations. Les Data Scientists exploitent également l’intelligence artificielle, et plus particulièrement le Machine Learning et le Deep Learning. Ces technologies sont utilisées pour créer des modèles et réaliser des prédictions en utilisant des algorithmes et diverses techniques. Dans un premier temps, les données doivent être collectées, extraites à partir de différentes sources. Il s’agit ensuite de les entreposer dans une Data Warehouse, de les nettoyer, de les transformer afin qu’elles puissent être analysées. L’étape suivante est celle du traitement des données, par le biais du Data Mining (forage de données), du clustering, de la classification ou de la modélisation. Les données sont ensuite analysées à l’aide de techniques comme l’analyse prédictive, la régression ou le text mining. Enfin, la dernière étape consiste à communiquer les informations dégagées par le biais du reporting, du dashboarding ou de la Data Visualization. Les cas d'usage et applications Les cas d’usage de la Data Science sont aussi nombreux que variés. Cette technologie est utilisée pour assister la prise de décision en entreprise, mais permet aussi l’automatisation de certaines tâches. Elle est utilisée à des fins de détection d’anomalies ou de fraude. La science des données permet aussi la classification, par exemple pour trier automatiquement les emails dans votre boîte. Elle permet aussi la prédiction, par exemple pour les ventes ou les revenus. En l’utilisant, il est possible de détecter des tendances ou des patterns dans les ensembles de données. La Data Science se cache aussi derrière les technologies de reconnaissance faciale, vocale ou textuelle. Elle alimente aussi les moteurs de recommandations capables de vous suggérer des produits ou du contenu en fonction de vos préférences. D’un secteur d’activité à l’autre, la Data Science est exploitée de différentes manières. Dans le domaine de la santé, les données permettent aujourd’hui de mieux comprendre les maladies, de recourir à la médecine préventive, d’inventer de nouveaux traitements ou d’accélérer les diagnostics. En logistique, la Data Science aide à optimiser les itinéraires et les opérations internes en temps réel en tenant compte de facteurs comme la météo ou le trafic. Dans la finance, elle permet d’automatiser le traitement des données d’accords de crédit grâce au Traitement Naturel du Langage (Vous n’êtes pas familier avec ce concept, découvrez le NLP dans notre article dédié) ou de détecter la fraude grâce au Machine Learning. Les entreprises de retail l’utilisent pour le ciblage publicitaire et le marketing personnalisé. Les moteurs de recommandations, basés sur l’analyse des préférences du consommateur, sont utilisés par Google pour son moteur de recherche web, par les plateformes de streaming comme Netflix ou Spotify, et par les entreprises de e-commerce comme Amazon. Les entreprises de cybersécurité se tournent vers l’IA et la science des données pour découvrir de nouveaux malwares au quotidien. Même les voitures autonomes reposent sur la Data Science et l’analyse prédictive pour ajuster leur vitesse, éviter les obstacles et les changements de voie dangereux ou choisir l’itinéraire le plus rapide.\"\n",
    "exclure_mots = ['d', 'du', 'de', 'la', 'des', 'le', 'et', 'est', 'elle', 'une', 'en', 'que', 'aux', 'qui', 'ces', 'les', 'dans', 'sur', 'l', 'un', 'pour', 'par', 'il', 'ou', 'à', 'ce', 'a', 'sont', 'cas', 'plus', 'leur', 'se', 's', 'vous', 'au', 'c', 'aussi', 'toutes', 'autre', 'comme']"
   ]
  },
  {
   "cell_type": "code",
   "execution_count": null,
   "id": "1b01ac8c",
   "metadata": {},
   "outputs": [],
   "source": [
    "wordcloud = WordCloud(background_color = 'white', stopwords = _______ , max_words = 50).generate(text)\n",
    "plt.figure(figsize = (10, 10), facecolor=None)\n",
    "plt.imshow(wordcloud)\n",
    "plt.axis(\"off\")\n",
    "plt.tight_layout(pad = 0)\n",
    "plt.show()"
   ]
  },
  {
   "cell_type": "markdown",
   "id": "5e1982bf",
   "metadata": {},
   "source": [
    "**WC, Slide 10 - Exercise 2**"
   ]
  },
  {
   "cell_type": "code",
   "execution_count": null,
   "id": "199eae91",
   "metadata": {},
   "outputs": [],
   "source": [
    "!pip install pillow\n",
    "import numpy as np \n",
    "from PIL import Image,ImageOps\n",
    "import matplotlib.pyplot as plt\n",
    "from wordcloud import WordCloud,STOPWORDS,ImageColorGenerator\n",
    "from scipy.ndimage import gaussian_gradient_magnitude "
   ]
  },
  {
   "cell_type": "code",
   "execution_count": null,
   "id": "ad68bad1",
   "metadata": {},
   "outputs": [],
   "source": [
    "# Download the Shakespeare text from the desktop\n",
    "file=open(\"desktop/WC/romeo.txt\",'r')\n",
    "text=file.read()"
   ]
  },
  {
   "cell_type": "code",
   "execution_count": null,
   "id": "44626331",
   "metadata": {},
   "outputs": [],
   "source": [
    "# Create the WordCloud\n",
    "canvas_ _____=1920\n",
    "canvas_ ____=1080 "
   ]
  },
  {
   "cell_type": "code",
   "execution_count": null,
   "id": "8831b20a",
   "metadata": {},
   "outputs": [],
   "source": [
    "# Generate wordcloud\n",
    "wordcloud = ________ (width=canvas_width,height=canvas_height).generate(text)\n",
    "wordcloud.to_file(\"simple_wordcloud.png\") \n",
    "plt.figure(figsize = (10, 10), facecolor=None)\n",
    "\n",
    "# Save the output wordcloud in png format\n",
    "plt.imshow(wordcloud, interpolation='bilinear')\n",
    "\n",
    "# Show the image output \n",
    "plt.axis(\"off\") \n",
    "plt.tight_layout(pad = 0)\n",
    "plt.show() "
   ]
  },
  {
   "cell_type": "code",
   "execution_count": null,
   "id": "dc3aca5b",
   "metadata": {},
   "outputs": [],
   "source": [
    "#--------additional tricks----\n",
    "# By default wordcloud generates random patterns but you can fix the seed\n",
    "# Generate wordcloud\n",
    "# Replace 1 with any number to get different result\n",
    "canvas_width=1920\n",
    "canvas_height=1080 \n",
    "wordcloud = WordCloud(width=canvas_width,height=canvas_height).generate(text)\n",
    "wordcloud = WordCloud(random_state=1).generate(text) \n",
    "wordcloud.to_file(\"simple_wordcloud.png\") \n",
    "plt.figure(figsize = (10, 10), facecolor=None)\n",
    "plt.imshow(wordcloud, interpolation='bilinear')\n",
    "plt.axis(\"off\") \n",
    "plt.tight_layout(pad = 0)\n",
    "plt.show() "
   ]
  },
  {
   "cell_type": "markdown",
   "id": "d88982b9",
   "metadata": {},
   "source": [
    "**WC, Slide 11 - Exercise 3**"
   ]
  },
  {
   "cell_type": "code",
   "execution_count": null,
   "id": "cbdca337",
   "metadata": {},
   "outputs": [],
   "source": [
    "# Exercice 3--------------------------------------------------------------------\n",
    "# White font and excluding the word THY\n",
    "canvas_width=1920\n",
    "canvas_height=1080 \n",
    "wordcloud = WordCloud(width=canvas_width,height=canvas_height).generate(text)\n",
    "stopwords = set(STOPWORDS)\n",
    "stopwords.add(\"_____\")"
   ]
  },
  {
   "cell_type": "code",
   "execution_count": null,
   "id": "6112a398",
   "metadata": {},
   "outputs": [],
   "source": [
    "wordcloud = WordCloud(stopwords=stopwords,background_color='_____',random_state=1,colormap='hot',max_font_size=800,min_font_size=20,width=canvas_width,height=canvas_height).generate(text)\n",
    "wordcloud.to_file(\"simple_wordcloud.png\") \n",
    "plt.figure(figsize = (10, 10), facecolor=None)\n",
    "plt.imshow(wordcloud, interpolation='bilinear')\n",
    "plt.axis(\"off\") \n",
    "plt.tight_layout(pad = 0)\n",
    "plt.show() "
   ]
  },
  {
   "cell_type": "markdown",
   "id": "99dc392b",
   "metadata": {},
   "source": [
    "**WC, Slide 12 - Exercise 4**"
   ]
  },
  {
   "cell_type": "code",
   "execution_count": null,
   "id": "d55f2664",
   "metadata": {},
   "outputs": [],
   "source": [
    "# Exercise 4---------------------------------------------------------------------\n",
    "# Use Masks\n",
    "romeo_mask= np.array(Image.open(\"desktop/WC/romeo1.jpg\"))\n",
    "\n",
    "# Read image\n",
    "wc = WordCloud(_____=romeo_mask,colormap='inferno',random_state=5,max_font_size=50,min_font_size=0)\n",
    "\n",
    "# Generate wordcloud with text data\n",
    "wc.generate(text)\n",
    "\n",
    "# Save image\n",
    "wc.to_file(\"masked_wc.jpg\")\n",
    "\n",
    "# Show image\n",
    "plt.figure(figsize = (10, 10), facecolor=None)\n",
    "plt.tight_layout(pad = 0)\n",
    "plt.imshow(wc, interpolation='bilinear')\n",
    " \n",
    "# Off axis on image\n",
    "plt.show() #show image"
   ]
  },
  {
   "cell_type": "markdown",
   "id": "19dcfdcd",
   "metadata": {},
   "source": [
    "**WC, Slide 14 - Exercise 5**"
   ]
  },
  {
   "cell_type": "code",
   "execution_count": null,
   "id": "44609f8d",
   "metadata": {},
   "outputs": [],
   "source": [
    "# Use of colored image for your mask so that the Cloud adapts to it (Exercise 5)\n",
    "image = np.array(Image.open(\"desktop/WC/romeo2.jpg\"))\n",
    "image_mask = image.copy()\n",
    "image[image_mask.sum(axis=2) == 0] = 255\n",
    "edges = np.mean([gaussian_gradient_magnitude(image[:, :, i] / 255., 2) for i in range(3)], axis=0)\n",
    "image_mask[edges > .1] = 255\n",
    "\n",
    "wc = WordCloud(background_color='black', mask=image_mask, mode='RGBA')\n",
    "wc.generate(text)\n",
    "\n",
    "image_colors = ImageColorGenerator(image)\n",
    "wc.recolor(color_func=image_colors)\n",
    "\n",
    "plt.figure(figsize = (10, 10), facecolor=None)\n",
    "plt.figure(figsize=(10, 10))\n",
    "plt.tight_layout(pad = 0)\n",
    "plt.imshow(wc, interpolation=\"bilinear\")\n",
    "wc.to_file(\"color_masked_wordcloud.png\")"
   ]
  },
  {
   "cell_type": "markdown",
   "id": "ff25b5b1",
   "metadata": {},
   "source": [
    "**WC, Slide 16 - Exercise 6**"
   ]
  },
  {
   "cell_type": "code",
   "execution_count": null,
   "id": "a7febe53",
   "metadata": {},
   "outputs": [],
   "source": [
    "# Exercise 6------------------------------------------------------------------\n",
    "# My paper Word cloud\n",
    "# In blue\n",
    "file=open(\"Desktop/WC/test.txt\",'r')\n",
    "text=file.read()\n",
    "canvas_width=1920\n",
    "canvas_height=1080 \n",
    "wordcloud = WordCloud(width=canvas_width,height=canvas_height).generate(text)\n",
    "exclure_mots = ['d', 'du', 'de', 'la', 'des', 'le', 'et', 'est', 'elle', 'dont','ainsi','après','une', 'en', 'que', 'aux', 'qui', 'ces', 'les', 'dans', 'sur', 'l', 'un', 'pour', 'par', 'il', 'ou', 'à', 'ce', 'a', 'sont', 'cas', 'plus', 'leur', 'se', 's', 'vous', 'au', 'c', 'aussi', 'toutes', 'autre', 'comme']\n",
    "wordcloud = WordCloud(background_color = 'white', stopwords = exclure_mots, max_words = 50).generate(text)\n",
    "plt.figure(figsize = (10, 10), facecolor=None)\n",
    "plt.imshow(wordcloud)\n",
    "plt.axis(\"off\")\n",
    "plt.tight_layout(pad = 0)\n",
    "plt.show()"
   ]
  },
  {
   "cell_type": "code",
   "execution_count": null,
   "id": "b86b9911",
   "metadata": {},
   "outputs": [],
   "source": [
    "# Colormap hot\n",
    "file=open(\"desktop/WC/test.txt\",'r')\n",
    "text=file.read()\n",
    "wordcloud = WordCloud(width=canvas_width,height=canvas_height).generate(text)\n",
    "stopwords = ['d','nombre','nécessaire','cet','grande', 'très', 'cherche','article','ont','favorisent','nous','cependant','partie','dépend', 'standard','existants', 'nos', 'théoriques','son','avec','celles', 'davantage', 'étudier', 'lequel', 'bancaire','aide', 'impliquent', 'dites', 'désormais', 'telles','tels', 'tout','avec', 'travaux', 'fournir','relativement','autres','obtenu','termes','cherche''telles','Reingold','soutenir','idée','ne', 'disposent', 'travail','différentes','concerne','qu', 'établissement','établissements','relations','certains','pendant', 'même', 'dont','ils','elles', 'cette','été', 'où','ainsi','après', 'leurs', 'peut', 'avant','entre', 'on','du', 'théorique','cet','de', 'la', 'des', 'le', 'et', 'est', 'elle', 'une', 'en', 'que', 'aux', 'qui', 'ces', 'les', 'dans', 'sur', 'l', 'un', 'pour', 'par', 'il', 'ou', 'à', 'ce', 'a', 'sont', 'cas', 'plus', 'leur', 'se', 's', 'vous', 'au', 'c', 'aussi', 'toutes', 'autre', 'comme']\n",
    "wordcloud = WordCloud(stopwords=stopwords,background_color='white',random_state=1,colormap='hot',max_font_size=800,min_font_size=20,width=canvas_width,height=canvas_height).generate(text)\n",
    "wordcloud.to_file(\"simple_wordcloud.png\") \n",
    "plt.figure(figsize = (10, 10), facecolor=None)\n",
    "plt.imshow(wordcloud, interpolation='bilinear')\n",
    "plt.axis(\"off\") \n",
    "plt.tight_layout(pad = 0)\n",
    "plt.show()"
   ]
  },
  {
   "cell_type": "code",
   "execution_count": null,
   "id": "8f494f21",
   "metadata": {},
   "outputs": [],
   "source": [
    "# Colormap summer/binary/gist_yarg/gist_gray/gray/bone/pink/spring/autumn/winter/cool/Wistia/afmhot/gist_heat/cooper\n",
    "# https://matplotlib.org/stable/gallery/color/colormap_reference.html\n",
    "# https://matplotlib.org/stable/gallery/color/named_colors.html\n",
    "file=open(\"desktop/WC/test.txt\",'r')\n",
    "text=file.read()\n",
    "wordcloud = WordCloud(width=canvas_width,height=canvas_height).generate(text)\n",
    "stopwords = ['d','nombre','nécessaire','cet','grande', 'très', 'cherche','article','ont','favorisent','nous','cependant','partie','dépend', 'standard','existants', 'nos', 'théoriques','son','avec','celles', 'davantage', 'étudier', 'lequel', 'bancaire','aide', 'impliquent', 'dites', 'désormais', 'telles','tels', 'tout','avec', 'travaux', 'fournir','relativement','autres','obtenu','termes','cherche''telles','Reingold','soutenir','idée','ne', 'disposent', 'travail','différentes','concerne','qu', 'établissement','établissements','relations','certains','pendant', 'même', 'dont','ils','elles', 'cette','été', 'où','ainsi','après', 'leurs', 'peut', 'avant','entre', 'on','du', 'théorique','cet','de', 'la', 'des', 'le', 'et', 'est', 'elle', 'une', 'en', 'que', 'aux', 'qui', 'ces', 'les', 'dans', 'sur', 'l', 'un', 'pour', 'par', 'il', 'ou', 'à', 'ce', 'a', 'sont', 'cas', 'plus', 'leur', 'se', 's', 'vous', 'au', 'c', 'aussi', 'toutes', 'autre', 'comme']\n",
    "wordcloud = WordCloud(stopwords=stopwords,background_color='aliceblue',random_state=1,colormap='twilight',max_font_size=800,min_font_size=20,width=canvas_width,height=canvas_height).generate(text)\n",
    "wordcloud.to_file(\"simple_wordcloud.png\") \n",
    "plt.figure(figsize = (10, 10), facecolor=None)\n",
    "plt.imshow(wordcloud, interpolation='bilinear')\n",
    "plt.axis(\"off\") \n",
    "plt.tight_layout(pad = 0)\n",
    "plt.show()"
   ]
  },
  {
   "cell_type": "code",
   "execution_count": null,
   "id": "08038e2f",
   "metadata": {},
   "outputs": [],
   "source": [
    "# Add a Mask\n",
    "mask= np.array(Image.open(\"desktop/WC/AF.jpeg\"))\n",
    "wordcloud = WordCloud(width=canvas_width,height=canvas_height).generate(text)\n",
    "stopwords = ['d','nombre','nécessaire','cet','grande', 'très', 'cherche','article','ont','favorisent','nous','cependant','partie','dépend', 'standard','existants', 'nos', 'théoriques','son','avec','celles', 'davantage', 'étudier', 'lequel', 'bancaire','aide', 'impliquent', 'dites', 'désormais', 'telles','tels', 'tout','avec', 'travaux', 'fournir','relativement','autres','obtenu','termes','cherche''telles','Reingold','soutenir','idée','ne', 'disposent', 'travail','différentes','concerne','qu', 'établissement','établissements','relations','certains','pendant', 'même', 'dont','ils','elles', 'cette','été', 'où','ainsi','après', 'leurs', 'peut', 'avant','entre', 'on','du', 'théorique','cet','de', 'la', 'des', 'le', 'et', 'est', 'elle', 'une', 'en', 'que', 'aux', 'qui', 'ces', 'les', 'dans', 'sur', 'l', 'un', 'pour', 'par', 'il', 'ou', 'à', 'ce', 'a', 'sont', 'cas', 'plus', 'leur', 'se', 's', 'vous', 'au', 'c', 'aussi', 'toutes', 'autre', 'comme']\n",
    "wordcloud = WordCloud(stopwords=stopwords,mask=mask,background_color='aliceblue',random_state=1,colormap='twilight',max_font_size=800,min_font_size=20,width=canvas_width,height=canvas_height).generate(text)\n",
    "wordcloud.to_file(\"simple_wordcloud.png\") \n",
    "plt.figure(figsize = (10, 10), facecolor=None)\n",
    "plt.imshow(wordcloud, interpolation='bilinear')\n",
    "plt.axis(\"off\") \n",
    "plt.tight_layout(pad = 0)\n",
    "plt.show()"
   ]
  },
  {
   "cell_type": "markdown",
   "id": "662b27c3",
   "metadata": {},
   "source": [
    "**WC, Slide 18 to 20 - Exercise 7**"
   ]
  },
  {
   "cell_type": "markdown",
   "id": "e041fdf0",
   "metadata": {},
   "source": [
    "*Step 1 to 3, slide 18*"
   ]
  },
  {
   "cell_type": "code",
   "execution_count": null,
   "id": "afce9f38",
   "metadata": {},
   "outputs": [],
   "source": [
    "# Exercise 7--------------------------------------------------------------------\n",
    "# Create a cloud from an article on a webpage\n",
    "!pip install Article\n",
    "!pip install newspaper3k\n",
    "from newspaper import Article"
   ]
  },
  {
   "cell_type": "code",
   "execution_count": null,
   "id": "73bf608f",
   "metadata": {},
   "outputs": [],
   "source": [
    "article = Article('https://fr.wikipedia.org/wiki/Cryptomonnaie')\n",
    "article.download()\n",
    "article.parse()\n",
    "\n",
    "article.text"
   ]
  },
  {
   "cell_type": "code",
   "execution_count": null,
   "id": "bddcc2e0",
   "metadata": {},
   "outputs": [],
   "source": [
    "from wordcloud import WordCloud\n",
    "import matplotlib.pyplot as plt\n",
    "wc = WordCloud()\n",
    "wc.generate(article.text)\n",
    "plt.figure(figsize = (10, 10), facecolor=None)\n",
    "plt.imshow(wc, interpolation=\"bilinear\")\n",
    "plt.axis('off')\n",
    "plt.tight_layout(pad = 0)\n",
    "plt.show()"
   ]
  },
  {
   "cell_type": "markdown",
   "id": "a07c07f6",
   "metadata": {},
   "source": [
    "*Step 4, slide  19 to 20*"
   ]
  },
  {
   "cell_type": "code",
   "execution_count": null,
   "id": "5773f7c9",
   "metadata": {},
   "outputs": [],
   "source": [
    "from wordcloud import STOPWORDS\n",
    "\n",
    "________  = ['d','nombre','nécessaire','cet','grande', 'l', 'fait','article', 'soit', 'mais', 'non','modifier','pas', 'sa', 'selon', 'donc', 'mai', 'peu','pas','très', 'cherche','article','ont','favorisent','nous','cependant','partie','dépend', 'standard','existants', 'nos', 'théoriques','son','avec','celles', 'davantage', 'étudier', 'lequel', 'bancaire','aide', 'impliquent', 'dites', 'désormais', 'telles','tels', 'tout','avec', 'travaux', 'fournir','relativement','autres','obtenu','termes','cherche''telles','Reingold','soutenir','idée','ne', 'disposent', 'travail','différentes','concerne','qu', 'établissement','établissements','relations','certains','pendant', 'même', 'dont','ils','elles', 'cette','été', 'où','ainsi','après', 'leurs', 'peut', 'avant','entre', 'on','du', 'théorique','cet','de', 'la', 'des', 'le', 'et', 'est', 'elle', 'une', 'en', 'que', 'aux', 'qui', 'ces', 'les', 'dans', 'sur', 'l', 'un', 'pour', 'par', 'il', 'ou', 'à', 'ce', 'a', 'sont', 'cas', 'plus', 'leur', 'se', 's', 'vous', 'au', 'c', 'aussi', 'toutes', 'autre', 'comme']\n",
    "________ = WordCloud(background_color=\"____\", max_words=2000,\n",
    "               stopwords=STOPWORDS, max_font_size=256,\n",
    "               random_state=42, width=500, height=500)\n",
    "wc.generate(article.text)\n",
    "plt.figure(figsize = (10, 10), facecolor=None)\n",
    "plt.imshow(wc, interpolation=\"bilinear\")\n",
    "plt.axis('off')\n",
    "plt.tight_layout(pad = 0)\n",
    "plt.show()"
   ]
  },
  {
   "cell_type": "code",
   "execution_count": null,
   "id": "a18f7bf2",
   "metadata": {},
   "outputs": [],
   "source": [
    "# Add MASK\n",
    "mask= np.array(Image.open(\"desktop/WC/cl.jpg\"))\n",
    "STOPWORDS = ['d','nombre','nécessaire','cet','de','code','grande', 'l', 'fait','d','une','depuis','article', 'soit', 'mais', 'non','modifier','pas', 'sa', 'selon', 'donc', 'mai', 'peu','pas','très', 'cherche','article','ont','favorisent','nous','cependant','partie','dépend', 'standard','existants', 'nos', 'théoriques','son','avec','celles', 'davantage', 'étudier', 'lequel', 'bancaire','aide', 'impliquent', 'dites', 'désormais', 'telles','tels', 'tout','avec', 'travaux', 'fournir','relativement','autres','obtenu','termes','cherche','telles','Reingold','soutenir','idée','ne', 'disposent', 'travail','différentes','concerne','qu', 'établissement','établissements','relations','certains','pendant', 'même', 'dont','ils','elles', 'cette','été', 'où','ainsi','après', 'leurs', 'peut', 'avant','entre', 'on','du', 'théorique','cet','de', 'la', 'des', 'le', 'et', 'est', 'elle', 'une', 'en', 'que', 'aux', 'qui', 'ces', 'les', 'dans', 'sur', 'l', 'un', 'pour', 'par', 'il', 'ou', 'à', 'ce', 'a', 'sont', 'cas', 'plus', 'leur', 'se', 's', 'vous', 'au', 'c', 'aussi', 'toutes', 'autre', 'comme']\n",
    "wc = WordCloud(background_color='mintcream',stopwords=STOPWORDS, mask=mask,colormap='cubehelix',random_state=1,max_font_size=50,min_font_size=1)\n",
    "wc.generate(article.text)\n",
    "plt.figure(figsize = (10, 10), facecolor=None)\n",
    "plt.imshow(wc, interpolation=\"bilinear\")\n",
    "plt.axis('off')\n",
    "plt.tight_layout(pad = 0)\n",
    "plt.show()"
   ]
  },
  {
   "cell_type": "markdown",
   "id": "92f80c17",
   "metadata": {},
   "source": [
    "**WC, Slide 22 to 24 - Exercise 8**"
   ]
  },
  {
   "cell_type": "code",
   "execution_count": null,
   "id": "543483bf",
   "metadata": {},
   "outputs": [],
   "source": [
    "# Exercise 8-----------------------------------------------------------------\n",
    "# Downloading a scientific article from ideas/repec.org\n",
    "!pip install Article\n",
    "!pip install newspaper3k\n",
    "\n",
    "from newspaper import Article\n",
    "from wordcloud import WordCloud\n",
    "import matplotlib.pyplot as plt\n",
    "from wordcloud import STOPWORDS\n",
    "import numpy as np\n",
    "from PIL import Image\n",
    "import os\n",
    "import xlrd\n",
    "cwd = os.getcwd()\n",
    "cwd\n",
    "\n",
    "article = Article('https://ideas.repec.org/a/eee/jbrese/v101y2019icp70-82.html')\n",
    "______.download()\n",
    "article.parse()\n",
    "\n",
    "article._____\n",
    "\n",
    "# Black Font NO stopwords\n",
    "wc = WordCloud()\n",
    "___.generate(article._____)\n",
    "\n",
    "plt.figure(figsize = (10, 10), facecolor=None)\n",
    "plt.imshow(wc, interpolation=\"bilinear\")\n",
    "plt.axis('off')\n",
    "plt.tight_layout(pad = 0)\n",
    "plt.show()"
   ]
  },
  {
   "cell_type": "code",
   "execution_count": null,
   "id": "e0137d88",
   "metadata": {},
   "outputs": [],
   "source": [
    "# Black Font with stopwords no special size\n",
    "STOPWORDS = ['the','of', 'this', 'in','or','item','are','as','want','abstract','jbusres','adding','its', 'our','elsevier', 'contact','you','using','about','bibliographic', 'download', 'help','by','a', 'title', 'citations', 'please', 'registered', 'please', 'for', 'title', 'if','that','http','authors','to','and','we', 'correct','author', 'correction','may','it', 'general']\n",
    "wc = WordCloud(stopwords=STOPWORDS)\n",
    "wc.generate(article.text)\n",
    "plt.figure(figsize = (10, 10), facecolor=None)\n",
    "plt.imshow(wc, interpolation=\"bilinear\")\n",
    "plt.axis('off')\n",
    "plt.tight_layout(pad = 0)\n",
    "plt.show()"
   ]
  },
  {
   "cell_type": "code",
   "execution_count": null,
   "id": "24e44bce",
   "metadata": {},
   "outputs": [],
   "source": [
    "# White font with special size & number of characters\n",
    "\n",
    "STOPWORDS = ['the','of', 'this', 'in','or','item','are','as','want','abstract','jbusres','adding','its', 'our','elsevier', 'contact','you','using','about','bibliographic', 'download', 'help','by','a', 'title', 'citations', 'please', 'registered', 'please', 'for', 'title', 'if','that','http','authors','to','and','we', 'correct','author', 'correction','may','it', 'general']\n",
    "wc = WordCloud(background_color=\"white\", max_words=2000,\n",
    "               stopwords=STOPWORDS, max_font_size=256,\n",
    "               random_state=42, width=500, height=500)\n",
    "wc.generate(article.text)\n",
    "plt.figure(figsize = (10, 10), facecolor=None)\n",
    "plt.imshow(wc, interpolation=\"bilinear\")\n",
    "plt.axis('off')\n",
    "plt.tight_layout(pad = 0)\n",
    "plt.show()"
   ]
  },
  {
   "cell_type": "code",
   "execution_count": null,
   "id": "cc19e46c",
   "metadata": {},
   "outputs": [],
   "source": [
    "# The same in black\n",
    "STOPWORDS = ['the','of', 'this', 'in','or','item','are','as','want','abstract','jbusres','adding','its', 'our','elsevier', 'contact','you','using','about','bibliographic', 'download', 'help','by','a', 'title', 'citations', 'please', 'registered', 'please', 'for', 'title', 'if','that','http','authors','to','and','we', 'correct','author', 'correction','may','it', 'general']\n",
    "wc = WordCloud(max_words=2000,\n",
    "               stopwords=STOPWORDS, max_font_size=256,\n",
    "               random_state=42, width=500, height=500)\n",
    "wc.generate(article.text)\n",
    "plt.figure(figsize = (10, 10), facecolor=None)\n",
    "plt.imshow(wc, interpolation=\"bilinear\")\n",
    "plt.axis('off')\n",
    "plt.tight_layout(pad = 0)\n",
    "plt.show()"
   ]
  },
  {
   "cell_type": "code",
   "execution_count": null,
   "id": "aceac16f",
   "metadata": {},
   "outputs": [],
   "source": [
    "# Adding a cloud mask\n",
    "mask= np.array(Image.open(\"desktop/WC/heart.jpg\"))\n",
    "STOPWORDS = ['the','of', 'this', 'in','or','item','are','as','RePEc','want','abstract','jbusres','adding','its', 'our','elsevier', 'contact','you','using','about','bibliographic', 'download', 'help','by','a', 'title', 'citations', 'please', 'registered', 'please', 'for', 'title', 'if','that','http','authors','to','and','we', 'correct','author', 'correction','may','it', 'general']\n",
    "wc = WordCloud(background_color=\"white\",colormap=\"ocean\",max_words=2000,\n",
    "               stopwords=STOPWORDS, mask=mask,max_font_size=256,\n",
    "               random_state=42, width=500, height=500)\n",
    "wc.generate(article.text)\n",
    "plt.figure(figsize = (10, 10), facecolor=None)\n",
    "plt.imshow(wc, interpolation=\"bilinear\")\n",
    "plt.axis('off')\n",
    "plt.tight_layout(pad = 0)\n",
    "plt.show()"
   ]
  },
  {
   "cell_type": "code",
   "execution_count": null,
   "id": "a442f3bb",
   "metadata": {},
   "outputs": [],
   "source": [
    "# COVID \n",
    "\n",
    "article = Article('https://en.wikipedia.org/wiki/COVID-19_pandemic')\n",
    "article.download()\n",
    "article.parse()\n",
    "\n",
    "article.text\n",
    "mask= np.array(Image.open(\"desktop/WC/virus.jpg\"))\n",
    "STOPWORDS = ['the','of', 'this', 'in','or','from','on', 'have','item','are','as','RePEc','want','abstract','jbusres','adding','its', 'our','elsevier', 'contact','you','using','about','bibliographic', 'download', 'help','by','a', 'title', 'citations', 'please', 'registered', 'please', 'for', 'title', 'if','that','http','authors','to','and','we', 'correct','author', 'correction','may','it', 'general']\n",
    "wc = WordCloud(background_color=\"white\",colormap=\"winter\",max_words=2000,\n",
    "               stopwords=STOPWORDS, mask=mask)\n",
    "wc.generate(article.text)\n",
    "plt.figure(figsize = (10, 10), facecolor=None)\n",
    "plt.imshow(wc, interpolation=\"bilinear\")\n",
    "plt.axis('off')\n",
    "plt.tight_layout(pad = 0)\n",
    "plt.show()"
   ]
  },
  {
   "cell_type": "markdown",
   "id": "cd4b89a4",
   "metadata": {},
   "source": [
    "**WC, Slide 25 to 27 - Exercise 9**"
   ]
  },
  {
   "cell_type": "code",
   "execution_count": null,
   "id": "dfb68ba5",
   "metadata": {},
   "outputs": [],
   "source": [
    "# PRO PACKAGE -------------------------------------------------------------------\n",
    "# Stylecloud\n",
    "!pip install stylecloud\n",
    "import stylecloud\n",
    "from IPython.display import Image\n",
    "# Always re enter the path!!!\n",
    "os.chdir('C:/Users/Miia CHABOT/Desktop/WC')"
   ]
  },
  {
   "cell_type": "code",
   "execution_count": null,
   "id": "be67b7ee",
   "metadata": {},
   "outputs": [],
   "source": [
    "# Exercise 9------------------------------------------------------------------\n",
    "# Basic_ the image is in Desktop/WC\n",
    "stylecloud.gen_stylecloud(file_path = \"rom.txt\")\n",
    "# Comment\n",
    "stylecloud.gen_stylecloud(file_path = \"rom.txt\", icon_name= \"fas fa-_____\",size=(1024, 512))\n",
    "# Gradient\n",
    "stylecloud.gen_stylecloud(file_path='rom.txt',\n",
    "                    icon_name='fas fa-____',\n",
    "                    palette='colorbrewer._____.______',\n",
    "                    background_color='black',gradient='horizontal',\n",
    "                    stopwords=STOPWORDS,\n",
    "                                     )"
   ]
  },
  {
   "cell_type": "markdown",
   "id": "b0f5b03f",
   "metadata": {},
   "source": [
    "**WC, Slide 28 to 32 - Exercise 10**"
   ]
  },
  {
   "cell_type": "code",
   "execution_count": null,
   "id": "30632338",
   "metadata": {},
   "outputs": [],
   "source": [
    "# IronManColors\n",
    "stylecloud.gen_stylecloud(file_path='rom.txt',\n",
    "                          icon_name='fas fa-comment',\n",
    "                          colors=['#ffdb4d', '#ff0000', '#e74c3c'],\n",
    "                          background_color='black',\n",
    "                          )\n",
    "# To Remove words\n",
    "my_custom_stopwords = {\"Tony\", \"Pepper\", \"Iron\", \"Stark\"}\n",
    "stopwords=my_custom_stopwords"
   ]
  },
  {
   "cell_type": "code",
   "execution_count": null,
   "id": "8b24a7e9",
   "metadata": {},
   "outputs": [],
   "source": [
    "# Bookreader\n",
    "bookreader = stylecloud.gen_stylecloud(\n",
    "                          file_path='rom.txt',\n",
    "                          size = 1028,                         \n",
    "                          icon_name = \"fas fa-book-reader\",\n",
    "                          palette='colorbrewer.sequential.Blues_5',\n",
    "                          background_color ='white')"
   ]
  },
  {
   "cell_type": "code",
   "execution_count": null,
   "id": "3305b8d9",
   "metadata": {},
   "outputs": [],
   "source": [
    "# Appstorelogo\n",
    "appstorelogo = stylecloud.gen_stylecloud(\n",
    "                          file_path='rom.txt',\n",
    "                          icon_name = \"fab fa-app-store-ios\",\n",
    "                          size = 1028,\n",
    "                          palette='colorbrewer.sequential.YlOrBr_3',\n",
    "                          background_color ='white')"
   ]
  },
  {
   "cell_type": "code",
   "execution_count": null,
   "id": "86f67e74",
   "metadata": {},
   "outputs": [],
   "source": [
    "# Apple\n",
    "apple = stylecloud.gen_stylecloud(\n",
    "                          file_path='rom.txt',\n",
    "                          icon_name = \"fab fa-apple\",\n",
    "                          size = 1028,\n",
    "                          palette='colorbrewer.sequential.Blues_5',\n",
    "                          background_color ='white')"
   ]
  },
  {
   "cell_type": "code",
   "execution_count": null,
   "id": "885ba67f",
   "metadata": {},
   "outputs": [],
   "source": [
    "# Bell\n",
    "\n",
    "bell = stylecloud.gen_stylecloud(\n",
    "                          file_path='rom.txt',\n",
    "                          icon_name = \"fas fa-bell\",\n",
    "                          size = 1028,\n",
    "                          palette='colorbrewer.sequential.Blues_5',\n",
    "                          background_color ='white')"
   ]
  },
  {
   "cell_type": "code",
   "execution_count": null,
   "id": "decb4260",
   "metadata": {},
   "outputs": [],
   "source": [
    "# Christmas\n",
    "\n",
    "christmas= stylecloud.gen_stylecloud(\n",
    "                          file_path='rom.txt',\n",
    "                          icon_name = \"fas fa-gifts\",\n",
    "                          size = 1028,\n",
    "                          palette='colorbrewer.sequential.Blues_5',\n",
    "                          background_color ='white')"
   ]
  },
  {
   "cell_type": "code",
   "execution_count": null,
   "id": "daab8e30",
   "metadata": {},
   "outputs": [],
   "source": [
    "# Another.txt dealing with python and with python icon\n",
    "os.chdir('C:/Users/Miia CHABOT/Desktop/WC')\n",
    "# Basic_ the image is in Desktop/WC\n",
    "stylecloud.gen_stylecloud(file_path = \"rom.txt\")\n",
    "\n",
    "python= stylecloud.gen_stylecloud(\n",
    "                          file_path='rom.txt',\n",
    "                          icon_name = \"fab fa-python\",\n",
    "                          size = 1028,\n",
    "                          palette='colorbrewer.sequential.Blues_5',\n",
    "                          background_color ='white')"
   ]
  },
  {
   "cell_type": "code",
   "execution_count": null,
   "id": "07f79f04",
   "metadata": {},
   "outputs": [],
   "source": [
    "python= stylecloud.gen_stylecloud(\n",
    "                          file_path='rom.txt',\n",
    "                          icon_name = \"fas fa-brain\",\n",
    "                          size = 1028,\n",
    "                          palette='colorbrewer.diverging.RdYlBu_10',\n",
    "                          background_color ='white')\n",
    "\n",
    "# List of FONTS \n",
    "# https://fontawesome.com/v5.15/icons?d=gallery&p=2\n",
    "# List of Colors for palette\n",
    "# https://jiffyclub.github.io/palettable/colorbrewer/"
   ]
  }
 ],
 "metadata": {
  "kernelspec": {
   "display_name": "Python 3 (ipykernel)",
   "language": "python",
   "name": "python3"
  },
  "language_info": {
   "codemirror_mode": {
    "name": "ipython",
    "version": 3
   },
   "file_extension": ".py",
   "mimetype": "text/x-python",
   "name": "python",
   "nbconvert_exporter": "python",
   "pygments_lexer": "ipython3",
   "version": "3.9.13"
  }
 },
 "nbformat": 4,
 "nbformat_minor": 5
}
