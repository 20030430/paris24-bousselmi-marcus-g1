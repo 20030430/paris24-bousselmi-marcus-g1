{
  "nbformat": 4,
  "nbformat_minor": 0,
  "metadata": {
    "colab": {
      "provenance": []
    },
    "kernelspec": {
      "name": "python3",
      "display_name": "Python 3"
    },
    "language_info": {
      "name": "python"
    }
  },
  "cells": [
    {
      "cell_type": "code",
      "execution_count": null,
      "metadata": {
        "id": "FB7nMY7xAVnj"
      },
      "outputs": [],
      "source": [
        "# excersize 1\n",
        "# auther Luuk Marcus\n",
        "# state ongoing\n",
        "\n",
        "#Excersize 2\n",
        "# author: Elsa\n",
        "# state: ongoing"
      ]
    }
  ]
}